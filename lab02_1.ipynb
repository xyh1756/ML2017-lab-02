{
 "cells": [
  {
   "cell_type": "code",
   "execution_count": 2,
   "metadata": {
    "collapsed": true
   },
   "outputs": [],
   "source": [
    "from sklearn.datasets import load_svmlight_file\n",
    "import numpy as np\n",
    "import math\n",
    "import random\n",
    "import matplotlib.pyplot as plt"
   ]
  },
  {
   "cell_type": "code",
   "execution_count": 3,
   "metadata": {},
   "outputs": [],
   "source": [
    "X_train, y_train = load_svmlight_file(\"a9a\", n_features=123)\n",
    "X_train = X_train.toarray()\n",
    "X_val, y_val = load_svmlight_file(\"a9a.t\", n_features=123)\n",
    "X_val = X_val.toarray()"
   ]
  },
  {
   "cell_type": "code",
   "execution_count": 4,
   "metadata": {},
   "outputs": [],
   "source": [
    "n_samples_train, n_features = X_train.shape\n",
    "X_train = np.column_stack((X_train, np.ones((n_samples_train, 1))))\n",
    "y_train = y_train.reshape((-1, 1))\n",
    "for i in range(y_train.shape[0]):\n",
    "    if y_train[i, 0] == -1:\n",
    "        y_train[i, 0] = 0"
   ]
  },
  {
   "cell_type": "code",
   "execution_count": 5,
   "metadata": {},
   "outputs": [],
   "source": [
    "n_samples_val, n_features = X_val.shape\n",
    "X_val = np.column_stack((X_val, np.ones((n_samples_val, 1))))\n",
    "y_val = y_val.reshape((-1, 1))\n",
    "for i in range(y_val.shape[0]):\n",
    "    if y_val[i, 0] == -1:\n",
    "        y_val[i, 0] = 0\n"
   ]
  },
  {
   "cell_type": "code",
   "execution_count": 6,
   "metadata": {},
   "outputs": [],
   "source": [
    "max_epoch = 15\n",
    "batch_size = 200\n",
    "learning_rate = 0.001\n",
    "C = 0.01\n",
    "\n",
    "losses_train = []\n",
    "losses_val = []\n",
    "\n",
    "w = np.random.random((n_features + 1, 1))#/15\n"
   ]
  },
  {
   "cell_type": "code",
   "execution_count": 7,
   "metadata": {},
   "outputs": [],
   "source": [
    "def sigmoid(x, batch_size):\n",
    "    result = np.mat(np.linspace(0, 0, batch_size)).T\n",
    "    for i in range(batch_size):\n",
    "        result[i, 0] = 1 / (1 + math.exp(-x[i, 0]))\n",
    "    return result"
   ]
  },
  {
   "cell_type": "code",
   "execution_count": 8,
   "metadata": {},
   "outputs": [],
   "source": [
    "for epoch in range(max_epoch):\n",
    "    start = random.randrange(0, n_samples_train - batch_size, 1)\n",
    "    end = start + batch_size\n",
    "    #loss_train = np.average(sigmoid(np.dot(X_train[start:end, :], w), batch_size) - y_train[start:end, :])\n",
    "    #print(sigmoid(np.dot(X_train[start:end, :], w), batch_size), y_train[start:end, :])\n",
    "    #loss_train = np.average(np.log(1 + math.exp(-np.dot(y_train[start:end, :].T, np.dot(X_train[start:end, :], w))))) + C/2 * np.average(np.dot(w.T, w))\n",
    "    loss_train = np.average(-np.dot(y_train[start:end, :].T, np.log(1/(1+np.exp(-np.dot(X_train[start:end, :], w)))))-np.dot((1-y_train[start:end, :]).T, np.log(1-1/(1+np.exp(-np.dot(X_train[start:end, :], w)))))) / batch_size\n",
    "    losses_train.append(loss_train)\n",
    "    #loss_val = np.average(sigmoid(np.dot(X_val, w), n_samples_val) - y_val)\n",
    "    loss_val = np.average(-np.dot(y_val.T, np.log(1/(1+np.exp(-np.dot(X_val, w)))))-np.dot((1-y_val).T, np.log(1-1/(1+np.exp(-np.dot(X_val, w)))))) / n_samples_val\n",
    "    losses_val.append(loss_val)\n",
    "    descent = np.zeros((n_features+1, 1))\n",
    "    for i in range(batch_size):\n",
    "        descent += learning_rate * ((sigmoid(np.dot(X_train[start:end, :], w), batch_size) - y_train[start:end, :]).T * X_train[start:end, :]).T\n",
    "    descent /= batch_size\n",
    "    w -= descent\n"
   ]
  },
  {
   "cell_type": "code",
   "execution_count": 9,
   "metadata": {},
   "outputs": [],
   "source": [
    "plt.figure(figsize=(18, 7))\n",
    "plt.plot(losses_train, color=\"r\", label=\"train\")\n",
    "plt.plot(losses_val, color=\"b\", label=\"validation\")\n",
    "plt.legend()\n",
    "plt.xlabel(\"epoch\")\n",
    "plt.ylabel(\"loss\")\n",
    "plt.title(\"The graph of loss value varing with the number of iterations\")\n",
    "plt.show()"
   ]
  },
  {
   "cell_type": "code",
   "execution_count": null,
   "metadata": {},
   "outputs": [],
   "source": []
  }
 ],
 "metadata": {
  "kernelspec": {
   "display_name": "Python 2",
   "language": "python",
   "name": "python2"
  },
  "language_info": {
   "codemirror_mode": {
    "name": "ipython",
    "version": 2
   },
   "file_extension": ".py",
   "mimetype": "text/x-python",
   "name": "python",
   "nbconvert_exporter": "python",
   "pygments_lexer": "ipython2",
   "version": "2.7.6"
  }
 },
 "nbformat": 4,
 "nbformat_minor": 0
}
