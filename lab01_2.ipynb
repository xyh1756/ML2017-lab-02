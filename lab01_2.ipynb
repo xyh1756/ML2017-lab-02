{
 "cells": [
  {
   "cell_type": "code",
   "execution_count": 1,
   "metadata": {
    "collapsed": true
   },
   "outputs": [],
   "source": [
    "from sklearn.datasets import load_svmlight_file\n",
    "import numpy\n",
    "import random\n",
    "import matplotlib.pyplot as plt"
   ]
  },
  {
   "cell_type": "code",
   "execution_count": 2,
   "metadata": {},
   "outputs": [],
   "source": [
    "X_train, y_train = load_svmlight_file(\"a9a\", n_features=123)\n",
    "X_val, y_val = load_svmlight_file(\"a9a.t\", n_features=123)\n",
    "X_train = X_train.toarray()\n",
    "X_val = X_val.toarray()"
   ]
  },
  {
   "cell_type": "code",
   "execution_count": 3,
   "metadata": {},
   "outputs": [],
   "source": [
    "n_samples_train, n_features_train = X_train.shape\n",
    "n_samples_val, n_features_val = X_val.shape\n",
    "X_train = numpy.column_stack((X_train, numpy.ones((n_samples_train, 1))))\n",
    "X_val = numpy.column_stack((X_val, numpy.ones((n_samples_val, 1))))\n",
    "y_train = y_train.reshape((-1, 1))\n",
    "y_val = y_val.reshape((-1, 1))"
   ]
  },
  {
   "cell_type": "code",
   "execution_count": 4,
   "metadata": {},
   "outputs": [],
   "source": [
    "max_epoch = 300\n",
    "learning_rate = 0.005\n",
    "batch_size = 200\n",
    "C = 0.001\n",
    "\n",
    "losses_train = []\n",
    "losses_val = []\n",
    "# w = numpy.zeros((n_features + 1, 1))  # initialize with zeros\n",
    "w = numpy.random.random((n_features_train + 1, 1))  # initialize with random numbers"
   ]
  },
  {
   "cell_type": "code",
   "execution_count": 5,
   "metadata": {},
   "outputs": [
    {
     "name": "stderr",
     "output_type": "stream",
     "text": [
      "C:\\Users\\Dell\\AppData\\Local\\Programs\\Python\\Python36\\lib\\site-packages\\ipykernel_launcher.py:15: RuntimeWarning: divide by zero encountered in double_scalars\n  from ipykernel import kernelapp as app\n"
     ]
    }
   ],
   "source": [
    "for epoch in range(max_epoch):\n",
    "    start = random.randrange(0, n_samples_train - batch_size, 1)\n",
    "    end = start + batch_size\n",
    "\n",
    "    h = 1 - y_train[start:end, :] * numpy.dot(X_train[start:end, :], w)\n",
    "    y_hat = numpy.where(h > 0, y_train[start:end, :], 0)\n",
    "    w -= learning_rate * (w - C * numpy.dot(X_train[start:end, :].transpose(), y_hat))\n",
    "\n",
    "    y_predict_train = numpy.where(numpy.dot(X_train[start:end, :], w) > 0, 1, -1)\n",
    "    loss_train = numpy.sum(w * w) + C * numpy.sum(numpy.maximum(1 - y_train[start:end, :] * numpy.dot(X_train[start:end, :], w), 0))\n",
    "    losses_train.append(loss_train / y_train[start:end, :].size)\n",
    "\n",
    "    y_predict_val = numpy.where(numpy.dot(X_val[start:end, :], w) > 0, 1, -1)\n",
    "    loss_val = numpy.sum(w * w) + C * numpy.sum(numpy.maximum(1 - y_val[start:end, :] * numpy.dot(X_val[start:end, :], w), 0))\n",
    "    losses_val.append(loss_val/y_val[start:end, :].size)\n",
    "\n"
   ]
  },
  {
   "cell_type": "code",
   "execution_count": 6,
   "metadata": {},
   "outputs": [],
   "source": [
    "plt.figure(figsize=(18, 7))\n",
    "plt.plot(losses_train, color=\"r\", label=\"train\")\n",
    "plt.plot(losses_val, color=\"b\", label=\"validation\")\n",
    "plt.legend()\n",
    "plt.xlabel(\"epoch\")\n",
    "plt.ylabel(\"loss\")\n",
    "plt.title(\"The graph of loss value varing with the number of iterations\")\n",
    "plt.show()"
   ]
  },
  {
   "cell_type": "code",
   "execution_count": null,
   "metadata": {},
   "outputs": [],
   "source": []
  }
 ],
 "metadata": {
  "kernelspec": {
   "display_name": "Python 2",
   "language": "python",
   "name": "python2"
  },
  "language_info": {
   "codemirror_mode": {
    "name": "ipython",
    "version": 2
   },
   "file_extension": ".py",
   "mimetype": "text/x-python",
   "name": "python",
   "nbconvert_exporter": "python",
   "pygments_lexer": "ipython2",
   "version": "2.7.6"
  }
 },
 "nbformat": 4,
 "nbformat_minor": 0
}
